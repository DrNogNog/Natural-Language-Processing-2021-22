{
 "cells": [
  {
   "cell_type": "markdown",
   "id": "sunset-knitting",
   "metadata": {},
   "source": [
    "<blockquote>Homework 3 Writeup</blockquote>"
   ]
  },
  {
   "cell_type": "markdown",
   "id": "cellular-washington",
   "metadata": {},
   "source": [
    "<blockquote>1.1b What is the total number of parameters you need (in terms of n)?</blockquote>\n",
    "<blockquote>You would need 2^n total parameters</blockquote>\n",
    "\n",
    "<blockquote>2.1) Report the accuracy of the trained classifier on the test set.</blockquote>\n",
    "<blockquote>0.5515320334261838 Accuracy</blockquote>\n",
    "\n",
    "<blockquote>2.2) Does using TFIDF counts as features improve the classification accuracy?</blockquote>\n",
    "<blockquote> 0.5654596100278552 \n",
    "Using TFIDF counts as features improves the classification accuracy by 0.0139275766 or 1.3%.\n",
    "</blockquote>\n",
    "\n",
    "<blockquote>2.3) Report the accuracy of the trained classifier on the test set. Which classifier performs better on the test set?</blockquote>\n",
    "<blockquote>0.6016713091922006\n",
    "The Logistic Regression Classifier performs better on the test set.</blockquote>\n",
    "\n",
    "<blockquote>2.4) Report the accuracy of the trained classifier on the test set. </blockquote>\n",
    "<blockquote>0.5877437325905293</blockquote>\n",
    "\n",
    "<blockquote>2.5a) Report the average accuracies of these different max features across folds.</blockquote>\n",
    "<blockquote>0.71635 This is the Average Accuracies</blockquote>\n",
    "\n",
    "<blockquote>2.5b) Report the accuracy of this trained classifier on the test set.</blockquote>\n",
    "<blockquote>0.7306666666666667 This is the Average Accuracies - MAX FEATURES is 4000 with the Greatest Avg Accuracy</blockquote>\n",
    "\n",
    "<blockquote>2.6c) Does dense feature representation improve the accuracy of your logistic regression classifier?</blockquote>\n",
    "<blockquote> Yes the dense feature representation improves the accuracy of the logistic regression classifier. </blockquote>\n",
    "\n",
    "<blockquote>2.6d) Report the accuracy of the trained classifier on the test set. Does removing stop words improve performance?</blockquote>\n",
    "<blockquote> .860333333333337 Accuracy Yes removing stop words improve preformance. </blockquote>\n",
    "\n",
    "<blockquote>3.1) Create a term-document matrix: Run def Problem3_1 --> Complete.</blockquote>\n",
    "<blockquote></blockquote>\n",
    "\n",
    "<blockquote>3.2) What plays are similar to each other? Do they match the grouping of Shakespeare’s plays into\n",
    "comedies, histories, and tragedies here? </blockquote>\n",
    "<blockquote></blockquote>\n",
    "\n",
    "<blockquote>3.3) </blockquote>\n",
    "<blockquote></blockquote>\n",
    "\n",
    "<blockquote>3.4) </blockquote>\n",
    "<blockquote></blockquote>\n",
    "\n",
    "<blockquote>3.5) </blockquote>\n",
    "<blockquote></blockquote>\n",
    "\n",
    "<blockquote>3.6) </blockquote>\n",
    "<blockquote></blockquote>\n",
    "\n",
    "<blockquote>3.7) </blockquote>\n",
    "<blockquote></blockquote>\n",
    "\n",
    "<blockquote>3.8) </blockquote>\n",
    "<blockquote></blockquote>\n",
    "\n"
   ]
  }
 ],
 "metadata": {
  "kernelspec": {
   "display_name": "Python 3",
   "language": "python",
   "name": "python3"
  },
  "language_info": {
   "codemirror_mode": {
    "name": "ipython",
    "version": 3
   },
   "file_extension": ".py",
   "mimetype": "text/x-python",
   "name": "python",
   "nbconvert_exporter": "python",
   "pygments_lexer": "ipython3",
   "version": "3.8.5"
  }
 },
 "nbformat": 4,
 "nbformat_minor": 5
}
