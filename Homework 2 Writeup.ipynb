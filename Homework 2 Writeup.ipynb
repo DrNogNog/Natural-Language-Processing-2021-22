{
 "cells": [
  {
   "cell_type": "markdown",
   "id": "angry-premium",
   "metadata": {},
   "source": [
    "<blockquote>Problem 1 Writeup:</blockquote>"
   ]
  },
  {
   "cell_type": "markdown",
   "id": "applicable-wildlife",
   "metadata": {},
   "source": [
    "<blockquote>How do you determine which community a post is likely from in an unsupervised manner?</blockquote>\n",
    "\n",
    "You find features of the weakly labeled data to cluster them together. Clustering into K-means groups usually can solve this problem. There's Hierarchial clustering and mixture models.\n",
    "<blockquote></blockquote>"
   ]
  },
  {
   "cell_type": "markdown",
   "id": "provincial-denial",
   "metadata": {},
   "source": [
    "<blockquote>How can you automatically generate posts that will fit a particular community?</blockquote>\n",
    "\n",
    "You can automatically generate posts that will fit in a particular community by adding weights to features and then seeing if this post fits the features of your model. The more heavily weighted features your post has, the more it will accuraly fit the community.\n",
    "<blockquote></blockquote>"
   ]
  },
  {
   "cell_type": "markdown",
   "id": "comfortable-baseball",
   "metadata": {},
   "source": [
    "<blockquote>If there is a debate inside a particular community regarding a specific topic, say COVID-19, and\n",
    "given that the points of contentions come from this list: mask wearing, reopening, vaccination; how do you\n",
    "determine which stance a person is taking in a post about COVID-19?</blockquote>\n",
    "\n",
    "I would determine how many positive words there are if it was mask wearing, reopening, vaccination, along with negative words like \"hate\" or \"stuffy\" I would assume that the topic would be about antimaskers. There would be a backlash of people with negative connotations. If it was positive words there would be \"enjoy\" or \"happy\" it would more be about how masks saves lives. If it were words like \"uproar\" or \"rise\" or \"positive\" it could be in need of more analysis around the words due to them having different connotations with added words.\n",
    "\n",
    "<blockquote></blockquote>"
   ]
  },
  {
   "cell_type": "markdown",
   "id": "passing-kansas",
   "metadata": {},
   "source": [
    "<blockquote>Problem 4 Writeup:</blockquote>"
   ]
  },
  {
   "cell_type": "markdown",
   "id": "manual-poster",
   "metadata": {},
   "source": [
    "<blockquote>Report the average perplexities of your language models on the remaining 1,000 tweets</blockquote>\n",
    "\n",
    "<blockquote>Average Perplexities: \n",
    "779.3333333333286 average perplexities</blockquote>\n",
    "\n",
    "<blockquote>Generate 10 tweets using each of your language model (for a total of 30 tweets).</blockquote>\n",
    "<blockquote>\n",
    "    -------------------Unigram-------------------\n",
    "update franktmcveety modry problem apprehensive vaccinated quarantine cr evictees investigative word nypost guinnchastity open box nursing gauravpandhi competent nikkifried\n",
    " ruled expire remote unit 100 work security numbers severe find trudeau mandate 7 taking national viewers norbartelakes administered exactly\n",
    " brave section going recites basis god beyondtheborder freedomfirstnet love australia time uhuru slams calling battle hard agencies release latestnews\n",
    " vaccine nerds happy european poor hours consider learners learners tweet hotels toothpaste within finishing letter gas cable accept take\n",
    " contain 4 comes utterly interim tj0055 climaterealists safer active ph told security leaders vast h3h3productions unscientific administered win finishing\n",
    " theeconomist safe 1987 positive buying majority staff required shitty gatherings chile clown nancy viewers find actually wsonlinenews unsurprising may\n",
    " per trying sasca best spreadpositivity set astrazeneca viewers quarantiners beating explain brand 2021 torontostar activity themadsloth remote quality academic\n",
    " near 1st sokoanalyst efficacy deaths covidharyana homeodisha expire detained potus covid politicians science unscientific record responsible newsupdates yet national\n",
    " recommended covid mosarkar5t diego standards release gas governor clarity vaccine consider protect andy certain subtleferret beyondtheborder blew entire speaking\n",
    " covidvaccine mandate administered word t4recovery deal hard speaks battle covid19tracking brussels 1838 busy severe potus causes demos happened calling\n",
    "-------------------Bigram-------------------\n",
    "break product neighborhood  march track variant\n",
    "    mrandyngo mind rushing illness filled store number read good response jareddiamond bbcpanorama like really cancelled may died parked meningitis california vaccines inmy fact years g4s lockdown drug statistics \n",
    "    meningitis section contracts centres particularly president theeconomist concerns may brazoria effectively realize away regarding larrykipz results warrants internment reports gallup scientists repeated may tonight awesome\n",
    "    600k aka g4s delivery anyone posted yet sleeping guys getting vucic jillfano2  leadership treasury lab \n",
    "    another times diego 564 tough uk follow regarding schools china data literal idea also truthful trans stay transport others bluesfest anymore mo back slapped iphone transition ppeforusa prank billion campaign bbciplayer\n",
    "    trying safe end go emergency hope guys abuse shot spreading shit billboards certainly business pics december say secret really proving neighborhood safe sheep like ontario went denied businesses vprasadmdmph \n",
    "    maybe macron giving care ohhh ford wonder full web dozens close puts tdov attacks slapped chchnews condition sensitive swery65   rules mdixon55  surprised years 2028 negative antibodies thru 64055  shot margolee paper second \n",
    "    jackswaggerfan4 today infringes science daily made vprasadmdmph jillfano2  people passport kesitegile justin 1987  local unnecessarily daily alberta soooo stop combat larrykipz lab rules sole 2  schools condition taylor world evidenc\n",
    "    sort godfreyganetsan national new palin often know important time holiday stressed delivery sending american adoption incompetence tolerable gordan larrykipz footage needs let already today kinda woodruffbets needs gaslightpolitic serbia \n",
    "    become sheeeiittthat covid government 7  rules others lab amazed bangladesh dark county ampj  drug goodbye bbciplayer receives goes believe national eligible scientists gas would campaign fact san gordan anillicitwriter crisis hundreds called naali vaccinations family kelly retired oxygen shut gas entirely maybe fda using long today sheeeiittthat governmental kits \n",
    "    april back kgwnews iphone life fr campaign mdixon55  godfreyganetsan predsednikrs cards case repeated fr gas nymag flake bimbotheory project thogoto halted perfect rules 26 bbcpanorama kgwnews chch campus perth kill senleiladelima times crisis \n",
    "-------------------Trigram-------------------\n",
    "little health biden allowed project attacks happy treatment currently directives 5  mrandyngo recovery convention transparency specimen joke charity beast debate vax thousand get sort panorama digital zierjames staff literal doctor onpoli billion october securely made realize sending iphone long dota today tested slapped trigger trying gas good say cruise 16 statistics jareddiamond games arriving dialogue books ishatreza sending love warrants way directives facilities sent halted stressed inside april usasia everyone biden efforts borrow obpoguerk might early swore statistics centres doubt market focusing lab empirical county inslee means 564 indiacoronaupdate mocked indiacoronaupdate proud chennamma brazoria older 60 timdonnelly bbciplayer available shot billboards hon battle transport kids indian france proving healthy talk morning soooo 10 label find india contracts pay donating arizonians 52342  tl circleofjhope got global specific last ahead mattgaetz opportunity world wearing ohhh aka hundreds dozens going labs close sheeeiittthat inside county options  staff tweet businesses zierjames alone 564 foxnews police still course amp fight toledo covid19 kgwnews panorama astradeathica formally done kill freedom77015202  mary asl sheep summer run though brand store statistics joke trans today mocked raised full million india went ever helping cases safe starting bbc need american quideldx treasury cards illness 564 quideldx brazil factory also sex evidence senators break idgaf restrictions 12  mary wearing palin receives indiacovidnews carlson contracts good bbcpanorama healthcare helping transgender monday zierjames brazoria form literal trump sheeeiittthat hesitancy tweet end debate country idea 2028 trophy topple work far gop living kids formally really unnecessarily end thankyou neighborhood trisha response iphone trump province 2  dblackal equivalent every hospitals tolerable could charity predsednikrs us 1987  sources mmpadellan results died stop 47  fda shipments cry tough idgaf blunder center asked often warrants repeated j  mindeless combat lot passport msnbc regarding vucic puts statistics jasminbhasin throw twitter talk mrandyngo looking eu brazil today done year raised https monday going madness right lack clergysupportscontainment kits cases governmental transmission start store teammanorgreen illness zero york easter government term dead sector looking gotten break canada variety best surprised early column lockdown marjorie anillicitwriter studies tomsav67  lot province trump marjorie games definitely october corruption washingtonians 11thhour currently drug privateeyenews everyone safe wearing combat indiacovidnews certainly nikita blunder pics members positive ishatreza excellent two vprasadmdmph hipboom results freedom go scg allocated leadership flake j  saint start church said senators predsednikrs delusional negative incompetence eu ontario conforming donating 50 november essential along got sarah hello anthonyfurey halted \n",
    "--------------------------------\n",
    "Interesting Observations:\n",
    "    Unigram: Potus Scientists 1st covid deaths soko analyst detained politicians record unscientific but responsible news updates.\n",
    "    Bigram: covid government 7  rules others lab amazed bangladesh dark county ampj  drug goodbye bbciplayer receives goes believe national eligible scientists gas would campaign \n",
    "    Trigram: india contracts pay donating arizonians 52342  tl circleofjhope got global specific last ahead mattgaetz opportunity world wearing ohhh aka hundreds dozens going labs close sheeeiittthat inside county options\n",
    "\n",
    "    The understanding of the sentences got worse and worse as it moved from Unigram to Trigram. Although, It did have some interesting phrases.\n",
    "</blockquote>\n",
    "\n",
    "<blockquote>What is the average compound sentiment of the tweets from VADER? Are users in your collected\n",
    "tweets generally positive/neutral/negative when talking about COVID-19?\n",
    "</blockquote>\n",
    "<blockquote> The average compound sentiment from VADER is 1100 negative, users are collected when talking about COVID-19. Users are generally collected as negative.</blockquote>\n",
    "\n",
    "<blockquote>After removing stopwords using NLTK, for positive tweets, what are the top 10 words mentioned?\n",
    "and for negative tweets, what are the top 10 words mentioned?</blockquote>\n",
    "\n",
    "<blockquote>The top 10 words mentioned are: Covid, covid-19, government, cases, were, still, amp, test, first, year, new, uk, coronavirus.</blockquote>\n",
    "<blockquote></blockquote>"
   ]
  },
  {
   "cell_type": "markdown",
   "id": "purple-resort",
   "metadata": {},
   "source": [
    "<blockquote>Problem 5.1 Writeup:</blockquote>"
   ]
  },
  {
   "cell_type": "markdown",
   "id": "colored-verification",
   "metadata": {},
   "source": [
    "<blockquote>Observation: [('wa', 4518), ('may', 3670), ('disease', 3434), ('also', 3201), ('ha', 3153), ('cell', 3026), ('people', 2518), ('used', 2368), ('health', 2089), ('vaccine', 2032), ('case', 1968), ('one', 1834), ('use', 1832), ('virus', 1810), ('blood', 1713), ('human', 1707), ('risk', 1658), ('infection', 1610), ('drug', 1600), ('patient', 1582)]\n",
    "This does give me insights to what the topic is about, it is possibly about vaccines and diesease and things about the coronavirus.\n",
    "</blockquote>\n",
    "<blockquote></blockquote>"
   ]
  },
  {
   "cell_type": "markdown",
   "id": "legitimate-carol",
   "metadata": {},
   "source": []
  },
  {
   "cell_type": "markdown",
   "id": "trying-investing",
   "metadata": {},
   "source": []
  },
  {
   "cell_type": "markdown",
   "id": "chinese-qatar",
   "metadata": {},
   "source": []
  },
  {
   "cell_type": "markdown",
   "id": "secret-dancing",
   "metadata": {},
   "source": []
  }
 ],
 "metadata": {
  "kernelspec": {
   "display_name": "Python 3",
   "language": "python",
   "name": "python3"
  },
  "language_info": {
   "codemirror_mode": {
    "name": "ipython",
    "version": 3
   },
   "file_extension": ".py",
   "mimetype": "text/x-python",
   "name": "python",
   "nbconvert_exporter": "python",
   "pygments_lexer": "ipython3",
   "version": "3.8.5"
  }
 },
 "nbformat": 4,
 "nbformat_minor": 5
}
